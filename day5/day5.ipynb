{
 "cells": [
  {
   "cell_type": "markdown",
   "metadata": {},
   "source": [
    "Part 1"
   ]
  },
  {
   "cell_type": "code",
   "execution_count": 1,
   "metadata": {},
   "outputs": [],
   "source": [
    "import re\n",
    "data = []\n",
    "with open(\"input.txt\", \"r\") as f:\n",
    "    for line in f.readlines():\n",
    "        data.append(line.strip())"
   ]
  },
  {
   "cell_type": "code",
   "execution_count": 2,
   "metadata": {},
   "outputs": [],
   "source": [
    "pattern_a = re.compile(\"([FB]{7})\")\n",
    "pattern_b = re.compile(\".+([RL]{3})\")\n",
    "a_arr = []\n",
    "b_arr = []\n",
    "for line in data:\n",
    "    a = pattern_a.match(line).group(1)\n",
    "    b = pattern_b.match(line).group(1)\n",
    "    x = 0\n",
    "    y = 0\n",
    "    for i in range(len(a)):\n",
    "        if a[i] == 'B':\n",
    "            x += 2**(len(a)-i-1)\n",
    "    a_arr.append(x)\n",
    "    for i in range(len(b)):\n",
    "        if b[i] == 'R':\n",
    "            y += 2**(len(b)-i-1)\n",
    "    b_arr.append(y)"
   ]
  },
  {
   "cell_type": "code",
   "execution_count": 3,
   "metadata": {},
   "outputs": [
    {
     "name": "stdout",
     "output_type": "stream",
     "text": [
      "874\n"
     ]
    }
   ],
   "source": [
    "max_seat = -1\n",
    "for i in range(len(a_arr)):\n",
    "    if a_arr[i] * 8 + b_arr[i] > max_seat:\n",
    "        max_seat = a_arr[i] * 8 + b_arr[i]\n",
    "print(max_seat)"
   ]
  },
  {
   "cell_type": "markdown",
   "metadata": {},
   "source": [
    "Part 2"
   ]
  },
  {
   "cell_type": "code",
   "execution_count": 4,
   "metadata": {},
   "outputs": [],
   "source": [
    "max_seat = -1\n",
    "seats = {}\n",
    "for i in range(len(a_arr)):\n",
    "    if a_arr[i] * 8 + b_arr[i] > max_seat:\n",
    "        max_seat = a_arr[i] * 8 + b_arr[i]\n",
    "    seats[data[i]] = a_arr[i] * 8 + b_arr[i]\n",
    "seats = sorted(seats.items(), key = lambda kv:(kv[1], kv[0]))"
   ]
  },
  {
   "cell_type": "code",
   "execution_count": 5,
   "metadata": {},
   "outputs": [
    {
     "name": "stdout",
     "output_type": "stream",
     "text": [
      "594\n"
     ]
    }
   ],
   "source": [
    "swap_seats = dict([(value, key) for key, value in seats])\n",
    "my_seat = -1\n",
    "tmp = -1\n",
    "for i in range(48,875):\n",
    "    try:\n",
    "        swap_seats[i]\n",
    "    except:\n",
    "        my_seat = i\n",
    "print(my_seat)"
   ]
  }
 ],
 "metadata": {
  "kernelspec": {
   "display_name": "Python 3",
   "language": "python",
   "name": "python3"
  },
  "language_info": {
   "codemirror_mode": {
    "name": "ipython",
    "version": 3
   },
   "file_extension": ".py",
   "mimetype": "text/x-python",
   "name": "python",
   "nbconvert_exporter": "python",
   "pygments_lexer": "ipython3",
   "version": "3.8.5"
  }
 },
 "nbformat": 4,
 "nbformat_minor": 4
}
