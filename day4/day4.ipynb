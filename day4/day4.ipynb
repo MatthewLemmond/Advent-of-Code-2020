{
 "cells": [
  {
   "cell_type": "markdown",
   "metadata": {},
   "source": [
    "Part 1"
   ]
  },
  {
   "cell_type": "code",
   "execution_count": 1,
   "metadata": {},
   "outputs": [],
   "source": [
    "# nasty regex for capturing the data in the passport fields\n",
    "import re\n",
    "pattern = re.compile(\"(\\w+):([\\w:#]+)\\s?\")"
   ]
  },
  {
   "cell_type": "code",
   "execution_count": 2,
   "metadata": {},
   "outputs": [
    {
     "name": "stdout",
     "output_type": "stream",
     "text": [
      "260\n"
     ]
    }
   ],
   "source": [
    "# prep the array with a dictionary\n",
    "data = [{}]\n",
    "\n",
    "with open(\"input.txt\", \"r\") as f:\n",
    "    for line in f.readlines():\n",
    "        # if line has no relevant data, add a new dictionary as this indicates a new passport\n",
    "        if line == '\\n':\n",
    "            data.append({})\n",
    "        # else, split up the line to get each element of the passport\n",
    "        # and then add it to the last dictionary in the array\n",
    "        else:\n",
    "            for elem in line.split():\n",
    "                result = pattern.match(elem)\n",
    "                name, info = result.group(1), result.group(2)\n",
    "                data[len(data)-1][name] = info\n",
    "print(len(data))"
   ]
  },
  {
   "cell_type": "code",
   "execution_count": 3,
   "metadata": {},
   "outputs": [
    {
     "name": "stdout",
     "output_type": "stream",
     "text": [
      "222\n"
     ]
    }
   ],
   "source": [
    "valid = []\n",
    "invalid = []\n",
    "\n",
    "for passport in data:\n",
    "    try:\n",
    "        passport['byr']\n",
    "        passport['iyr']\n",
    "        passport['eyr']\n",
    "        passport['hgt']\n",
    "        passport['hcl']\n",
    "        passport['ecl']\n",
    "        passport['pid']\n",
    "        valid.append(passport)\n",
    "    except:\n",
    "        invalid.append(passport)\n",
    "print(len(valid))"
   ]
  },
  {
   "cell_type": "markdown",
   "metadata": {},
   "source": [
    "Part 2"
   ]
  },
  {
   "cell_type": "code",
   "execution_count": 7,
   "metadata": {},
   "outputs": [
    {
     "name": "stdout",
     "output_type": "stream",
     "text": [
      "140\n"
     ]
    }
   ],
   "source": [
    "validated = []\n",
    "hcl_pattern = re.compile(\"#[0-9a-f]{6}\")\n",
    "ecl_pattern = re.compile(\"amb|blu|brn|gry|grn|hzl|oth\")\n",
    "pid_pattern = re.compile(\"\\d{9}\")\n",
    "\n",
    "for passport in valid:\n",
    "    try:\n",
    "        if not 1920 <= int(passport['byr']) <= 2002:\n",
    "            #print(\"bad byr\",passport['byr'])\n",
    "            raise Exception\n",
    "        if not 2010 <= int(passport['iyr']) <= 2020:\n",
    "            #print(\"bad iyr\",passport['iyr'])\n",
    "            raise Exception\n",
    "        if not 2020 <= int(passport['eyr']) <= 2030:\n",
    "            #print(\"bad eyr\",passport['eyr'])\n",
    "            raise Exception\n",
    "        if \"cm\" in passport['hgt'][-2:] and not 150 <= int(passport['hgt'][0:-2]) <= 193:\n",
    "            #print(\"bad cm height\",passport['hgt'])\n",
    "            raise Exception\n",
    "        elif \"in\" in passport['hgt'][-2:] and not 59 <= int(passport['hgt'][0:-2]) <= 76:\n",
    "            #print(\"bad in height\",passport['hgt'])\n",
    "            raise Exception\n",
    "        elif \"in\" not in passport['hgt'][-2:] and \"cm\" not in passport['hgt'][-2:]:\n",
    "            #print(\"no in or cm\",passport['hgt'])\n",
    "            raise Exception\n",
    "        if hcl_pattern.match(passport['hcl']) is None or len(passport['hcl']) != 7:\n",
    "            #print(\"bad hcl\",passport['hcl'])\n",
    "            raise Exception\n",
    "        if ecl_pattern.match(passport['ecl']) is None or len(passport['ecl']) != 3:\n",
    "            #print(\"bad ecl\",passport['ecl'])\n",
    "            raise Exception\n",
    "        if pid_pattern.match(passport['pid']) is None or len(passport['pid']) != 9:\n",
    "            #print(\"bad pid\",passport['pid'])\n",
    "            raise Exception\n",
    "        validated.append(passport)\n",
    "    except:\n",
    "        invalid.append(passport)\n",
    "print(len(validated))"
   ]
  }
 ],
 "metadata": {
  "kernelspec": {
   "display_name": "Python 3",
   "language": "python",
   "name": "python3"
  },
  "language_info": {
   "codemirror_mode": {
    "name": "ipython",
    "version": 3
   },
   "file_extension": ".py",
   "mimetype": "text/x-python",
   "name": "python",
   "nbconvert_exporter": "python",
   "pygments_lexer": "ipython3",
   "version": "3.8.5"
  }
 },
 "nbformat": 4,
 "nbformat_minor": 4
}
