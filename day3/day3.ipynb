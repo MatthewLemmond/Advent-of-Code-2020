{
 "cells": [
  {
   "cell_type": "markdown",
   "metadata": {},
   "source": [
    "Part 1"
   ]
  },
  {
   "cell_type": "code",
   "execution_count": 48,
   "metadata": {},
   "outputs": [],
   "source": [
    "slope_map = []\n",
    "with open('input.txt', 'r') as f:\n",
    "    for line in f.readlines():\n",
    "        slope_map.append(list(line.strip()))\n",
    "step_x = 3\n",
    "step_y = 1\n",
    "trees = 0"
   ]
  },
  {
   "cell_type": "code",
   "execution_count": 49,
   "metadata": {},
   "outputs": [],
   "source": [
    "# checking that the input is correctly 2D, optional\n",
    "#slope_map"
   ]
  },
  {
   "cell_type": "code",
   "execution_count": 50,
   "metadata": {},
   "outputs": [
    {
     "data": {
      "text/plain": [
       "211"
      ]
     },
     "execution_count": 50,
     "metadata": {},
     "output_type": "execute_result"
    }
   ],
   "source": [
    "x, y, lim_x = 0, 0, len(slope_map[0])\n",
    "while y < len(slope_map)-1:\n",
    "    x = (x + step_x) % lim_x\n",
    "    y += step_y\n",
    "    if slope_map[y][x] == \"#\":\n",
    "        trees += 1\n",
    "trees"
   ]
  },
  {
   "cell_type": "code",
   "execution_count": 51,
   "metadata": {},
   "outputs": [
    {
     "data": {
      "text/plain": [
       "211"
      ]
     },
     "execution_count": 51,
     "metadata": {},
     "output_type": "execute_result"
    }
   ],
   "source": [
    "trees"
   ]
  },
  {
   "cell_type": "markdown",
   "metadata": {},
   "source": [
    "Part 2"
   ]
  },
  {
   "cell_type": "code",
   "execution_count": 52,
   "metadata": {},
   "outputs": [
    {
     "data": {
      "text/plain": [
       "67"
      ]
     },
     "execution_count": 52,
     "metadata": {},
     "output_type": "execute_result"
    }
   ],
   "source": [
    "step_x = 1\n",
    "step_y = 1\n",
    "trees_1 = 0\n",
    "x, y, lim_x = 0, 0, len(slope_map[0])\n",
    "while y < len(slope_map)-1:\n",
    "    x = (x + step_x) % lim_x\n",
    "    y += step_y\n",
    "    if slope_map[y][x] == \"#\":\n",
    "        trees_1 += 1\n",
    "trees_1"
   ]
  },
  {
   "cell_type": "code",
   "execution_count": 53,
   "metadata": {},
   "outputs": [
    {
     "data": {
      "text/plain": [
       "211"
      ]
     },
     "execution_count": 53,
     "metadata": {},
     "output_type": "execute_result"
    }
   ],
   "source": [
    "step_x = 3\n",
    "step_y = 1\n",
    "trees_2 = 0\n",
    "x, y, lim_x = 0, 0, len(slope_map[0])\n",
    "while y < len(slope_map)-1:\n",
    "    x = (x + step_x) % lim_x\n",
    "    y += step_y\n",
    "    if slope_map[y][x] == \"#\":\n",
    "        trees_2 += 1\n",
    "trees_2"
   ]
  },
  {
   "cell_type": "code",
   "execution_count": 54,
   "metadata": {},
   "outputs": [
    {
     "data": {
      "text/plain": [
       "77"
      ]
     },
     "execution_count": 54,
     "metadata": {},
     "output_type": "execute_result"
    }
   ],
   "source": [
    "step_x = 5\n",
    "step_y = 1\n",
    "trees_3 = 0\n",
    "x, y, lim_x = 0, 0, len(slope_map[0])\n",
    "while y < len(slope_map)-1:\n",
    "    x = (x + step_x) % lim_x\n",
    "    y += step_y\n",
    "    if slope_map[y][x] == \"#\":\n",
    "        trees_3 += 1\n",
    "trees_3"
   ]
  },
  {
   "cell_type": "code",
   "execution_count": 55,
   "metadata": {},
   "outputs": [
    {
     "data": {
      "text/plain": [
       "89"
      ]
     },
     "execution_count": 55,
     "metadata": {},
     "output_type": "execute_result"
    }
   ],
   "source": [
    "step_x = 7\n",
    "step_y = 1\n",
    "trees_4 = 0\n",
    "x, y, lim_x = 0, 0, len(slope_map[0])\n",
    "while y < len(slope_map)-1:\n",
    "    x = (x + step_x) % lim_x\n",
    "    y += step_y\n",
    "    if slope_map[y][x] == \"#\":\n",
    "        trees_4 += 1\n",
    "trees_4"
   ]
  },
  {
   "cell_type": "code",
   "execution_count": 56,
   "metadata": {},
   "outputs": [
    {
     "data": {
      "text/plain": [
       "37"
      ]
     },
     "execution_count": 56,
     "metadata": {},
     "output_type": "execute_result"
    }
   ],
   "source": [
    "step_x = 1\n",
    "step_y = 2\n",
    "trees_5 = 0\n",
    "x, y, lim_x = 0, 0, len(slope_map[0])\n",
    "while y < len(slope_map)-1:\n",
    "    x = (x + step_x) % lim_x\n",
    "    y += step_y\n",
    "    if slope_map[y][x] == \"#\":\n",
    "        trees_5 += 1\n",
    "trees_5"
   ]
  },
  {
   "cell_type": "code",
   "execution_count": 57,
   "metadata": {},
   "outputs": [
    {
     "data": {
      "text/plain": [
       "3584591857"
      ]
     },
     "execution_count": 57,
     "metadata": {},
     "output_type": "execute_result"
    }
   ],
   "source": [
    "trees_1 * trees_2 * trees_3 * trees_4 * trees_5"
   ]
  },
  {
   "cell_type": "code",
   "execution_count": null,
   "metadata": {},
   "outputs": [],
   "source": []
  }
 ],
 "metadata": {
  "kernelspec": {
   "display_name": "Python 3",
   "language": "python",
   "name": "python3"
  },
  "language_info": {
   "codemirror_mode": {
    "name": "ipython",
    "version": 3
   },
   "file_extension": ".py",
   "mimetype": "text/x-python",
   "name": "python",
   "nbconvert_exporter": "python",
   "pygments_lexer": "ipython3",
   "version": "3.8.5"
  }
 },
 "nbformat": 4,
 "nbformat_minor": 4
}
